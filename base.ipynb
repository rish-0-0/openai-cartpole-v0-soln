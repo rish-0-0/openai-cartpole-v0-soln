{
  "nbformat": 4,
  "nbformat_minor": 0,
  "metadata": {
    "colab": {
      "name": "base.ipynb",
      "provenance": [],
      "collapsed_sections": [],
      "toc_visible": true
    },
    "kernelspec": {
      "name": "python3",
      "display_name": "Python 3"
    }
  },
  "cells": [
    {
      "cell_type": "markdown",
      "metadata": {
        "id": "XECINQYgpZtn",
        "colab_type": "text"
      },
      "source": [
        "### You have to replace the task variable with which task file you need by uploading the files to collab first\n",
        "\n",
        "You can add the files in the data of the collab directly\n",
        "i.e,<br/>\n",
        "click the folder icon on the left, and Upload <br/>\n",
        "After uploading it should look like this\n",
        "- ..\n",
        "- sample_data/\n",
        "- task1.py\n",
        "- task2.py\n",
        "- task3.py\n"
      ]
    },
    {
      "cell_type": "code",
      "metadata": {
        "id": "jPfRAuPPkqc0",
        "colab_type": "code",
        "colab": {}
      },
      "source": [
        "### File for collab's gym/env\n",
        "cartpole_py = '/usr/local/lib/python3.6/dist-packages/gym/envs/classic_control/cartpole.py'\n",
        "task1_fh = open('task1.py', 'r')\n",
        "# task2_fh = open('task2.py', 'r')\n",
        "# task3_fh = open('task3.py', 'r')\n",
        "to_add= 'import math\\nimport gym\\nfrom gym import spaces, logger\\nfrom gym.utils import seeding\\nimport numpy as np\\n'\n",
        "task = task1_fh.read()\n",
        "with open(cartpole_py, 'w') as config:\n",
        "  config.write(to_add)\n",
        "with open(cartpole_py, 'a') as config:\n",
        "  config.write(task)"
      ],
      "execution_count": 0,
      "outputs": []
    },
    {
      "cell_type": "markdown",
      "metadata": {
        "id": "d092eI85o0pu",
        "colab_type": "text"
      },
      "source": [
        "## Check the output of the below cell to see if it matches the task file\n"
      ]
    },
    {
      "cell_type": "code",
      "metadata": {
        "id": "gLkZOfStopYS",
        "colab_type": "code",
        "colab": {}
      },
      "source": [
        "!cat /usr/local/lib/python3.6/dist-packages/gym/envs/classic_control/cartpole.py"
      ],
      "execution_count": 0,
      "outputs": []
    },
    {
      "cell_type": "code",
      "metadata": {
        "id": "4IC2nFljnhn1",
        "colab_type": "code",
        "colab": {}
      },
      "source": [
        "\n"
      ],
      "execution_count": 0,
      "outputs": []
    }
  ]
}